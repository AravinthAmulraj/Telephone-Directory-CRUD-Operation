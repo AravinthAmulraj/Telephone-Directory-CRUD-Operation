{
 "cells": [
  {
   "cell_type": "code",
   "execution_count": 1,
   "id": "95a41fee",
   "metadata": {},
   "outputs": [
    {
     "name": "stdout",
     "output_type": "stream",
     "text": [
      "Requirement already satisfied: dnspython in d:\\users\\aravi\\anaconda3\\lib\\site-packages (2.2.1)\n",
      "Requirement already satisfied: pymongo[srv] in d:\\users\\aravi\\anaconda3\\lib\\site-packages (4.3.2)\n",
      "Requirement already satisfied: dnspython<3.0.0,>=1.16.0 in d:\\users\\aravi\\anaconda3\\lib\\site-packages (from pymongo[srv]) (2.2.1)\n"
     ]
    }
   ],
   "source": [
    "!pip install dnspython\n",
    "!pip install pymongo[srv]"
   ]
  },
  {
   "cell_type": "code",
   "execution_count": 3,
   "id": "a4169bd1",
   "metadata": {},
   "outputs": [],
   "source": [
    "import pymongo\n",
    "from pymongo import MongoClient\n",
    "\n",
    "client = pymongo.MongoClient(\"mongodb://127.0.0.1:27017/\")\n",
    "db = client.TelephoneDirectory\n",
    "record = db.contacts"
   ]
  },
  {
   "cell_type": "code",
   "execution_count": 7,
   "id": "6081f9d2",
   "metadata": {},
   "outputs": [
    {
     "data": {
      "text/plain": [
       "<pymongo.results.InsertManyResult at 0x1f310c014c0>"
      ]
     },
     "execution_count": 7,
     "metadata": {},
     "output_type": "execute_result"
    }
   ],
   "source": [
    "# Sample inputs\n",
    "\n",
    "\"\"\"trial=[\n",
    "       {\"name\":\"Ravi Chandran\",\"ph\":9865326598,\"_id\":\"ravi@gmail.com\",\"Place\":\"Delhi\"},\n",
    "       {\"name\":\"Alex velu\",\"ph\":7845124512,\"_id\":\"alex@gmail.com\",\"Place\":\"Pune\"},\n",
    "       {\"name\":\"Rahul Madhu\",\"ph\":8954785476,\"_id\":\"ahul@gmail.com\",\"Place\":\"Bangalore\"},\n",
    "       {\"name\":\"Vinish Vivek\",\"ph\":9854786532,\"_id\":\"vinish@gmail.com\",\"Place\":\"Mumbai\"}]  \n",
    "record.insert_many(trial) \"\"\""
   ]
  },
  {
   "cell_type": "code",
   "execution_count": null,
   "id": "10721ec8",
   "metadata": {},
   "outputs": [],
   "source": [
    "# Function to add new contacts"
   ]
  },
  {
   "cell_type": "code",
   "execution_count": 11,
   "id": "8a6f6b45",
   "metadata": {},
   "outputs": [],
   "source": [
    "def details():\n",
    "    g=0\n",
    "    while g==0:\n",
    "        name=' '.join([i.capitalize() for i in input(\"Name: \",).split()])\n",
    "        ph=str(input(\"Phone Number: \",))\n",
    "        try:\n",
    "            check=[int(i) for i in ph]\n",
    "        except:\n",
    "            continue\n",
    "        if len(check)==10:\n",
    "            pass\n",
    "        else:\n",
    "            print(\"ERROR : Phone number should contain 10 digits, please try again.\")\n",
    "            continue\n",
    "            \n",
    "        mail_id=input(\"Mail id: \",)\n",
    "        if mail_id.endswith(\"@gmail.com\")==True or mail_id.endswith(\"@yahoo.in\")==True:\n",
    "            pass\n",
    "        else:\n",
    "            print(\"ERROR : mail id should end with @gmail.com, please try again.\")\n",
    "            continue\n",
    "        place=input(\"Place: \",).capitalize()\n",
    "        g=1\n",
    "    return {\"name\":name,\"ph\":int(ph),\"_id\":mail_id,\"Place\":place}"
   ]
  },
  {
   "cell_type": "code",
   "execution_count": null,
   "id": "e915e4be",
   "metadata": {},
   "outputs": [],
   "source": [
    "## Funtion to Insert the record into the collection"
   ]
  },
  {
   "cell_type": "code",
   "execution_count": 12,
   "id": "b768b811",
   "metadata": {},
   "outputs": [],
   "source": [
    "def add_contacts():\n",
    "    people = details()\n",
    "    record.insert_one(people)"
   ]
  },
  {
   "cell_type": "code",
   "execution_count": null,
   "id": "9ec9c9cd",
   "metadata": {},
   "outputs": [],
   "source": [
    "## Code to find the records that are already created.\n",
    "## Function to Retrieve all contacts in alphabetical order"
   ]
  },
  {
   "cell_type": "code",
   "execution_count": 13,
   "id": "7f79cbef",
   "metadata": {},
   "outputs": [],
   "source": [
    "def all_contacts():\n",
    "    import pandas as pd\n",
    "    docs=record.find().sort(\"name\",1)\n",
    "    ds=pd.DataFrame(docs)\n",
    "    print(ds)"
   ]
  },
  {
   "cell_type": "code",
   "execution_count": null,
   "id": "5ef815f6",
   "metadata": {},
   "outputs": [],
   "source": [
    "## Function to get the data of the contact by name."
   ]
  },
  {
   "cell_type": "code",
   "execution_count": 14,
   "id": "43237999",
   "metadata": {},
   "outputs": [],
   "source": [
    "def get_contact():\n",
    "    k=0\n",
    "    names=' '.join([i.capitalize() for i in input(\"Name: \",).split()])\n",
    "    for i in record.find({\"name\":names},{\"_id\":1, \"name\":1,\"ph\":1,\"mail_id\":1,\"Place\":1}):\n",
    "        k=1\n",
    "        print(i)\n",
    "    if k==0:\n",
    "        import pandas as pd\n",
    "        data=record.find()\n",
    "        ds=pd.DataFrame(data)\n",
    "        val=ds[\"name\"].str.startswith(names,na=False)\n",
    "        for i in val:\n",
    "            if i ==True:\n",
    "                print(\"Contact \",names,\" is not found. Are you searching for \\n \", ds[val])\n",
    "                break\n",
    "            else:\n",
    "                print(\"Contact \",names,\" is not found!\")"
   ]
  },
  {
   "cell_type": "code",
   "execution_count": null,
   "id": "ff45e0fb",
   "metadata": {},
   "outputs": [],
   "source": [
    "## Modifying the phone number or places or both using names already recorded by the user."
   ]
  },
  {
   "cell_type": "code",
   "execution_count": 15,
   "id": "1d806f55",
   "metadata": {},
   "outputs": [],
   "source": [
    "def modify():\n",
    "    print(\"To change Phone number, Please Type 1\")\n",
    "    print(\"To change Place, Please Type 2\")\n",
    "    print(\"To chage Both, Please Type 3\")\n",
    "    modd=int(input())\n",
    "    if modd==1:\n",
    "        \n",
    "        #By name change phone no\n",
    "        name1=' '.join([i.capitalize() for i in input(\"Name: \",).split()])\n",
    "        my_query={'name':name1}\n",
    "        ph1=str(input(\"Phone Number: \",))\n",
    "        new_value={\"$set\":{\"ph\":ph1}}\n",
    "        record.update_one(my_query,new_value)\n",
    "        \n",
    "    elif modd==2:\n",
    "        \n",
    "        #by name change place\n",
    "        name1=' '.join([i.capitalize() for i in input(\"Name: \",).split()])\n",
    "        my_query={'name':name1}\n",
    "        place1=' '.join([i.capitalize() for i in input(\" \",).split()])\n",
    "        new_value={\"$set\":{\"Place\":place1}}\n",
    "        record.update_one(my_query,new_value)\n",
    "        \n",
    "    elif modd==3:\n",
    "        \n",
    "        #by name change ph no\n",
    "        name1=' '.join([i.capitalize() for i in input(\"Name: \",).split()])\n",
    "        my_query={'name':name1}\n",
    "        ph1=str(input(\"Phone Number: \",))\n",
    "        new_value={\"$set\":{\"ph\":ph1}}\n",
    "        record.update_one(my_query,new_value)\n",
    "        \n",
    "        #by name change place\n",
    "        place1=' '.join([i.capitalize() for i in input(\"Place name: \",).split()])\n",
    "        new_value={\"$set\":{\"Place\":place1}}\n",
    "        record.update_one(my_query,new_value)"
   ]
  },
  {
   "cell_type": "code",
   "execution_count": null,
   "id": "86cfbc5f",
   "metadata": {},
   "outputs": [],
   "source": [
    "## Function to delete the contact by name using delete_one() Method:"
   ]
  },
  {
   "cell_type": "code",
   "execution_count": 16,
   "id": "feb22a45",
   "metadata": {},
   "outputs": [],
   "source": [
    "def delete():\n",
    "    name2=' '.join([i.capitalize() for i in input(\"Type the name that has to be deleted \",).split()])\n",
    "    for i in record.find():\n",
    "        if i['name']==name2:\n",
    "            idd=i['_id']\n",
    "            break\n",
    "        else:\n",
    "            pass\n",
    "    db.contacts.delete_one({'_id':idd})"
   ]
  },
  {
   "cell_type": "code",
   "execution_count": null,
   "id": "a719d362",
   "metadata": {},
   "outputs": [],
   "source": [
    "## Main Function"
   ]
  },
  {
   "cell_type": "code",
   "execution_count": 17,
   "id": "bf9a310f",
   "metadata": {},
   "outputs": [],
   "source": [
    "def tele_func():\n",
    "    print(\"To add your contacts ,Please Type A.\")\n",
    "    print(\"To get a contact detail,Please Type B\")\n",
    "    print(\"To get all the contacts in view, Please Type C\")\n",
    "    print(\"To update phone number or place, Please Type D\")\n",
    "    print(\"To delete a contact using name as input, Please Type E\")\n",
    "    mark=input().capitalize()\n",
    "    if mark==\"A\":\n",
    "        add_contacts()\n",
    "    elif mark==\"B\":\n",
    "        get_contact()\n",
    "    elif mark==\"C\":\n",
    "        all_contacts()\n",
    "    elif mark==\"D\":\n",
    "        modify()\n",
    "    elif mark==\"E\":\n",
    "        delete()    \n",
    "    else:\n",
    "        print(\"ERROR : Please try again!\")"
   ]
  },
  {
   "cell_type": "code",
   "execution_count": null,
   "id": "9cf68fbc",
   "metadata": {},
   "outputs": [],
   "source": [
    "## To execute the program run the tele_func()"
   ]
  },
  {
   "cell_type": "code",
   "execution_count": 18,
   "id": "01bce05a",
   "metadata": {},
   "outputs": [
    {
     "name": "stdout",
     "output_type": "stream",
     "text": [
      "To add your contacts ,Please Type A.\n",
      "To get a contact detail,Please Type B\n",
      "To get all the contacts in view, Please Type C\n",
      "To update phone number or place, Please Type D\n",
      "To delete a contact using name as input, Please Type E\n",
      "A\n",
      "Name: Aravinth\n",
      "Phone Number: 9865265983\n",
      "Mail id: aravi@gmail.com\n",
      "Place: Chennai\n"
     ]
    }
   ],
   "source": [
    "# Creating new contact\n",
    "tele_func()"
   ]
  },
  {
   "cell_type": "code",
   "execution_count": 19,
   "id": "971bc9a7",
   "metadata": {},
   "outputs": [
    {
     "name": "stdout",
     "output_type": "stream",
     "text": [
      "To add your contacts ,Please Type A.\n",
      "To get a contact detail,Please Type B\n",
      "To get all the contacts in view, Please Type C\n",
      "To update phone number or place, Please Type D\n",
      "To delete a contact using name as input, Please Type E\n",
      "C\n",
      "                _id           name          ph      Place\n",
      "0    alex@gmail.com      Alex velu  7845124512       Pune\n",
      "1   aravi@gmail.com       Aravinth  9865265983    Chennai\n",
      "2    ahul@gmail.com    Rahul Madhu  8954785476  Bangalore\n",
      "3    ravi@gmail.com  Ravi Chandran  9865326598      Delhi\n",
      "4  vinish@gmail.com   Vinish Vivek  9854786532     Mumbai\n"
     ]
    }
   ],
   "source": [
    "## Display All data\n",
    "tele_func()"
   ]
  },
  {
   "cell_type": "code",
   "execution_count": 20,
   "id": "594c907f",
   "metadata": {},
   "outputs": [
    {
     "name": "stdout",
     "output_type": "stream",
     "text": [
      "To add your contacts ,Please Type A.\n",
      "To get a contact detail,Please Type B\n",
      "To get all the contacts in view, Please Type C\n",
      "To update phone number or place, Please Type D\n",
      "To delete a contact using name as input, Please Type E\n",
      "B\n",
      "Name: Aravinth\n",
      "{'_id': 'aravi@gmail.com', 'name': 'Aravinth', 'ph': 9865265983, 'Place': 'Chennai'}\n"
     ]
    }
   ],
   "source": [
    "## Retrieving a contact information\n",
    "tele_func()"
   ]
  },
  {
   "cell_type": "code",
   "execution_count": 21,
   "id": "ce498f22",
   "metadata": {},
   "outputs": [
    {
     "name": "stdout",
     "output_type": "stream",
     "text": [
      "To add your contacts ,Please Type A.\n",
      "To get a contact detail,Please Type B\n",
      "To get all the contacts in view, Please Type C\n",
      "To update phone number or place, Please Type D\n",
      "To delete a contact using name as input, Please Type E\n",
      "D\n",
      "To change Phone number, Please Type 1\n",
      "To change Place, Please Type 2\n",
      "To chage Both, Please Type 3\n",
      "3\n",
      "Name: Vinish Vivek\n",
      "Phone Number: 9999999999\n",
      "Place name: Chennai\n"
     ]
    }
   ],
   "source": [
    "## Updating new phone no and place to a contact\n",
    "tele_func()"
   ]
  },
  {
   "cell_type": "code",
   "execution_count": 22,
   "id": "e2ebeb2a",
   "metadata": {},
   "outputs": [
    {
     "name": "stdout",
     "output_type": "stream",
     "text": [
      "To add your contacts ,Please Type A.\n",
      "To get a contact detail,Please Type B\n",
      "To get all the contacts in view, Please Type C\n",
      "To update phone number or place, Please Type D\n",
      "To delete a contact using name as input, Please Type E\n",
      "C\n",
      "                _id           name          ph      Place\n",
      "0    alex@gmail.com      Alex velu  7845124512       Pune\n",
      "1   aravi@gmail.com       Aravinth  9865265983    Chennai\n",
      "2    ahul@gmail.com    Rahul Madhu  8954785476  Bangalore\n",
      "3    ravi@gmail.com  Ravi Chandran  9865326598      Delhi\n",
      "4  vinish@gmail.com   Vinish Vivek  9999999999    Chennai\n"
     ]
    }
   ],
   "source": [
    "## Udated record (vinish vivek --> phone number and place has been updated)\n",
    "## Display updated record\n",
    "tele_func()"
   ]
  },
  {
   "cell_type": "code",
   "execution_count": 23,
   "id": "9790bbf8",
   "metadata": {},
   "outputs": [
    {
     "name": "stdout",
     "output_type": "stream",
     "text": [
      "To add your contacts ,Please Type A.\n",
      "To get a contact detail,Please Type B\n",
      "To get all the contacts in view, Please Type C\n",
      "To update phone number or place, Please Type D\n",
      "To delete a contact using name as input, Please Type E\n",
      "E\n",
      "Type the name that has to be deleted Rahul Madhu\n"
     ]
    }
   ],
   "source": [
    "## Deleting contact details in record\n",
    "tele_func()"
   ]
  },
  {
   "cell_type": "code",
   "execution_count": 24,
   "id": "ebcc6ee9",
   "metadata": {},
   "outputs": [
    {
     "name": "stdout",
     "output_type": "stream",
     "text": [
      "To add your contacts ,Please Type A.\n",
      "To get a contact detail,Please Type B\n",
      "To get all the contacts in view, Please Type C\n",
      "To update phone number or place, Please Type D\n",
      "To delete a contact using name as input, Please Type E\n",
      "C\n",
      "                _id           name          ph    Place\n",
      "0    alex@gmail.com      Alex velu  7845124512     Pune\n",
      "1   aravi@gmail.com       Aravinth  9865265983  Chennai\n",
      "2    ravi@gmail.com  Ravi Chandran  9865326598    Delhi\n",
      "3  vinish@gmail.com   Vinish Vivek  9999999999  Chennai\n"
     ]
    }
   ],
   "source": [
    "## Records after deleting Rahul Mudhu\n",
    "## Display updated record after deletion\n",
    "tele_func()"
   ]
  },
  {
   "cell_type": "code",
   "execution_count": null,
   "id": "5ab82cff",
   "metadata": {},
   "outputs": [],
   "source": []
  },
  {
   "cell_type": "code",
   "execution_count": null,
   "id": "63eaef99",
   "metadata": {},
   "outputs": [],
   "source": []
  }
 ],
 "metadata": {
  "kernelspec": {
   "display_name": "Python 3 (ipykernel)",
   "language": "python",
   "name": "python3"
  },
  "language_info": {
   "codemirror_mode": {
    "name": "ipython",
    "version": 3
   },
   "file_extension": ".py",
   "mimetype": "text/x-python",
   "name": "python",
   "nbconvert_exporter": "python",
   "pygments_lexer": "ipython3",
   "version": "3.9.12"
  }
 },
 "nbformat": 4,
 "nbformat_minor": 5
}
